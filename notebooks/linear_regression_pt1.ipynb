{
 "cells": [
  {
   "cell_type": "markdown",
   "id": "e452d3fe-e4e0-4a3b-9430-3aab47270ffb",
   "metadata": {},
   "source": [
    "# Linear Regression, Part 1\n",
    "\n",
    "In this notebook, we'll review the big ideas behind **linear regression**. \n",
    "\n",
    "Linear regression involves a **target variable** (also called the **dependent variable**) and some number of **explanatory variables** (also known as **independent variables** or **predictors**). We want to estimate the effect of the explanatory variables on the **mean** of the target variable, allowing us to understand how changes in the predictors influence the outcome.\n",
    "\n",
    "For this notebook, we'll be using the [possum dataset](https://www.openintro.org/data/index.php?data=possum) from the OpenIntro Statistics textbook. We'll be using the total length (total_l) variable as our target."
   ]
  },
  {
   "cell_type": "code",
   "execution_count": null,
   "id": "3a114c87-3122-42fa-ad58-89a735e0d493",
   "metadata": {},
   "outputs": [],
   "source": [
    "import pandas as pd\n",
    "import numpy as np\n",
    "import matplotlib.pyplot as plt"
   ]
  },
  {
   "cell_type": "code",
   "execution_count": null,
   "id": "62dfb1af-7c5f-46a5-b238-49150ae1d517",
   "metadata": {},
   "outputs": [],
   "source": [
    "possums = pd.read_csv(\"../data/possum.csv\")\n",
    "possums.head()"
   ]
  },
  {
   "cell_type": "markdown",
   "id": "500ec372-e3a2-4e19-bda5-a3b8e8da59df",
   "metadata": {},
   "source": [
    "Let's start by using the tail length (tail_l) as our predictor variable.\n",
    "\n",
    "For linear regression, we assume that the mean value of the total length can be estimated using a linear function of the predictor variables:\n",
    "\n",
    "$$Mean(total_l) = \\beta_0 + \\beta_1(tail_l)$$\n",
    "\n",
    "To see if this looks plausible, let's inspect a scatterplot."
   ]
  },
  {
   "cell_type": "code",
   "execution_count": null,
   "id": "52b96901-82ab-44d9-93a4-4cdddd991205",
   "metadata": {},
   "outputs": [],
   "source": [
    "possums.plot(kind=\"scatter\", x=\"tail_l\", y=\"total_l\");"
   ]
  },
  {
   "cell_type": "markdown",
   "id": "3ef78e94-6bf0-4190-9afb-eb7c8b1670df",
   "metadata": {},
   "source": [
    "**Question:** Does the model above look reasonable?"
   ]
  },
  {
   "cell_type": "markdown",
   "id": "92b1a6a1-6a75-4895-b3dd-68a3b15e7316",
   "metadata": {},
   "source": [
    "Now, we need to estimate the values of the coefficients, $\\beta_0$ and $\\beta_1$. For this, we'll use the statsmodels library."
   ]
  },
  {
   "cell_type": "code",
   "execution_count": null,
   "id": "d15af6fa-5fa7-43b6-a8e1-29be03dd8c1e",
   "metadata": {},
   "outputs": [],
   "source": [
    "import statsmodels.formula.api as smf"
   ]
  },
  {
   "cell_type": "markdown",
   "id": "9510567f-0f59-48f8-b403-f45811f412aa",
   "metadata": {},
   "source": [
    "To specify our model, we need to use a [patsy formula](https://patsy.readthedocs.io/en/latest/formulas.html). The recipe is `target variable ~ predictor variables`.\n",
    "\n",
    "We'll use the `ols` function and go ahead and fit the model."
   ]
  },
  {
   "cell_type": "code",
   "execution_count": null,
   "id": "e6942adf-918d-45f8-a7ea-708eec5e89cf",
   "metadata": {},
   "outputs": [],
   "source": [
    "lr_total_tail = smf.ols(\"total_l ~ tail_l\", data=possums).fit()"
   ]
  },
  {
   "cell_type": "markdown",
   "id": "cc76b5f3-1615-48f1-8280-42c608400967",
   "metadata": {},
   "source": [
    "To see the results, we can inspect the params."
   ]
  },
  {
   "cell_type": "code",
   "execution_count": null,
   "id": "c8aece13-5fda-406e-9754-a4b61828aba2",
   "metadata": {},
   "outputs": [],
   "source": [
    "lr_total_tail.params"
   ]
  },
  {
   "cell_type": "markdown",
   "id": "c1680063-0095-49fc-bff7-f6799c294c06",
   "metadata": {},
   "source": [
    "Substituting these estimates into the model, we get\n",
    "\n",
    "$$Mean(total_l) = 41.037130 + 1.244307(tail_l)$$"
   ]
  },
  {
   "cell_type": "markdown",
   "id": "bb19f28e-24a4-4b1f-ba43-3adf7077edf4",
   "metadata": {},
   "source": [
    "**Question:** How do we interpret the meaning of the coefficint for the tail length (if tail length and total length are measured in cm)?"
   ]
  },
  {
   "cell_type": "markdown",
   "id": "9cfd1e32-3113-466d-8bc2-bea208457048",
   "metadata": {},
   "source": [
    "If we want to overlay the estimates on the scatterplot, we can use the predict method. We need to provide a DataFrame that has the correct columns."
   ]
  },
  {
   "cell_type": "code",
   "execution_count": null,
   "id": "fd780a01-80ce-4c68-84bb-9591604b0983",
   "metadata": {},
   "outputs": [],
   "source": [
    "pred_df = pd.DataFrame(\n",
    "    {\n",
    "        'tail_l': np.linspace(start=possums['tail_l'].min(), stop=possums['tail_l'].max())\n",
    "    }\n",
    ")\n",
    "\n",
    "pred_df['mean_estimate'] = lr_total_tail.predict(pred_df)\n",
    "\n",
    "pred_df.head(2)"
   ]
  },
  {
   "cell_type": "markdown",
   "id": "ecc1445c-a766-4532-b18a-6e9d0685945a",
   "metadata": {},
   "source": [
    "Let's verify the first estimate."
   ]
  },
  {
   "cell_type": "code",
   "execution_count": null,
   "id": "82aec85d-2ada-43e7-8492-c267dd2bc520",
   "metadata": {},
   "outputs": [],
   "source": [
    "tail_l = 32\n",
    "estimate = lr_total_tail.params['Intercept'] + lr_total_tail.params['tail_l']*tail_l\n",
    "estimate"
   ]
  },
  {
   "cell_type": "markdown",
   "id": "8dea4214-7dc4-46a6-9e79-4189e3ce0a32",
   "metadata": {},
   "source": [
    "Now, let's plot the estimates with the original dataset."
   ]
  },
  {
   "cell_type": "code",
   "execution_count": null,
   "id": "6330e7d3-c2b4-47d5-b928-218798ac1f3a",
   "metadata": {},
   "outputs": [],
   "source": [
    "fig, ax = plt.subplots()\n",
    "possums.plot(kind=\"scatter\", x=\"tail_l\", y=\"total_l\", ax=ax)\n",
    "pred_df.plot(kind=\"line\", x=\"tail_l\", y=\"mean_estimate\", color=\"black\", ax=ax);"
   ]
  },
  {
   "cell_type": "markdown",
   "id": "11773d6c-2827-4915-b9d5-3793b1494d3d",
   "metadata": {},
   "source": [
    "### Inference for Linear Regression\n",
    "\n",
    "At this point, it is important to remember that the coefficients that we got are merely **estimates**, which means that there is inherent **uncertainty** in those values. \n",
    "\n",
    "A common way to quantify this uncertainty is through a **confidence interval**, which gives a plausible range of values for the estimated parameters, given the observed data.\n",
    "\n",
    "We can view the confidence interval for the estimates by inspecting the model summary output."
   ]
  },
  {
   "cell_type": "code",
   "execution_count": null,
   "id": "3f0949f0-12ef-4d2d-9c73-eb51a1124119",
   "metadata": {},
   "outputs": [],
   "source": [
    "lr_total_tail.summary()"
   ]
  },
  {
   "cell_type": "markdown",
   "id": "c522272a-fe03-4b6b-89f4-da71bd912c4f",
   "metadata": {},
   "source": [
    "This says that, given the observed data, it is plausible that the effect of a one-unit change in tail_l could be as small as 0.888 or as large as 1.601.\n",
    "\n",
    "We might also ask whether the effect of tail_l is **statistically significant** or is the observed effect could be attributed solely to random **sampling error**.\n",
    "\n",
    "This can be done either by checking whether the confidence interval contains 0 or by inspecting the p-value associated with tail_l. Since the p-value is small, we can conclude that the effect is statistically significant."
   ]
  },
  {
   "cell_type": "markdown",
   "id": "6508ddf9-7772-4753-bed3-a060f77faa16",
   "metadata": {},
   "source": [
    "### Assumptions of Linear Regression\n",
    "\n",
    "In order to rely on the confidence interval and p-values, we do need to check the assumptions of linear regression. \n",
    "\n",
    "The assumptions can be remembered using the acronym LINE:\n",
    "\n",
    "* There is a **L**inear relationship between the predictors and mean of the target.\n",
    "* The errors are **I**ndependent.\n",
    "* The errors are **N**ormally distributed.\n",
    "* The errors have **E**qual variance."
   ]
  },
  {
   "cell_type": "markdown",
   "id": "d6ba4719-7639-4f6e-9789-4f2341958526",
   "metadata": {},
   "source": [
    "The first one we can check by inspecting the scatterplot of the predictors against the target variable.\n",
    "\n",
    "The second assumption as more to do with understanding the data generation process. In this case, if we assume that we are working with a simple random sample, we can feel good that it is satisfied.\n",
    "\n",
    "For the third and fourth, we can inspect a plot of the errors."
   ]
  },
  {
   "cell_type": "code",
   "execution_count": null,
   "id": "872c55a2-5489-482e-bc26-da74cd2dcf5d",
   "metadata": {},
   "outputs": [],
   "source": [
    "plt.scatter(lr_total_tail.fittedvalues, lr_total_tail.resid);"
   ]
  },
  {
   "cell_type": "code",
   "execution_count": null,
   "id": "c1fd77a4-3e91-4661-aa72-983b00cffade",
   "metadata": {},
   "outputs": [],
   "source": [
    "plt.hist(lr_total_tail.resid);"
   ]
  },
  {
   "cell_type": "code",
   "execution_count": null,
   "id": "794f402c-f7a1-4e05-a236-96199d5442cb",
   "metadata": {},
   "outputs": [],
   "source": [
    "import statsmodels.stats.api as sms"
   ]
  },
  {
   "cell_type": "markdown",
   "id": "6f60b87f-673a-4539-b56c-3fabed03a83c",
   "metadata": {},
   "source": [
    "To test for normality, we'll use the [Jarque-Bera test](https://www.statsmodels.org/dev/generated/statsmodels.stats.stattools.jarque_bera.html).\n",
    "\n",
    "The Jarque-Bera test statistic tests the null that the data is normally distributed against an alternative that the data follow some other distribution."
   ]
  },
  {
   "cell_type": "code",
   "execution_count": null,
   "id": "a124f07a-3e1f-44a7-9963-628a1506585a",
   "metadata": {},
   "outputs": [],
   "source": [
    "sms.jarque_bera(lr_total_tail.resid)"
   ]
  },
  {
   "cell_type": "markdown",
   "id": "2fdc6bf3-7b6a-4fc9-b7a3-0151490f1eb0",
   "metadata": {},
   "source": [
    "The second component is the p-value. In this case, there is not enough evidence to conclude that the residuals are non-normal."
   ]
  },
  {
   "cell_type": "markdown",
   "id": "007f7440-0b85-4cbd-ae62-87eeeec6a659",
   "metadata": {},
   "source": [
    "To test that there is equal variability in the residuals, we can use the [Breusch-Pagan Lagrange Multiplier test](https://www.statsmodels.org/stable/generated/statsmodels.stats.diagnostic.het_breuschpagan.html) for heteroscedasticity which tests the hypothesis that the residual variance does not depend on the predictor variables."
   ]
  },
  {
   "cell_type": "code",
   "execution_count": null,
   "id": "526a22ed-c131-4df4-933a-6e8762978d8f",
   "metadata": {},
   "outputs": [],
   "source": [
    "sms.het_breuschpagan(lr_total_tail.resid, lr_total_tail.model.exog)"
   ]
  },
  {
   "cell_type": "raw",
   "id": "0ca727e2-e751-4b0f-8030-89a6599edf2b",
   "metadata": {},
   "source": [
    "Again, the p-value is the second component. We don't have enough evidence to conclude that this assumption is violated."
   ]
  },
  {
   "cell_type": "markdown",
   "id": "9d99706b-dfd0-4df0-9408-9b18bd55764f",
   "metadata": {},
   "source": [
    "### Goodness of Fit\n",
    "\n",
    "Another way we can analyze our model is by looking at the **goodness of fit** or how well the model's predicted values matched the observed data.\n",
    "\n",
    "One way we can measure this is the **R-squared** value, which compares the variance of the residuals to the variance in the target variable. It is the proportion by which the variability in the target is reduced by using the estimate from the model. It is often phrased as the proportion of the variability in the target that could be **explained** by the predictor variables.\n",
    "\n",
    "We can calculate it ourselves:"
   ]
  },
  {
   "cell_type": "code",
   "execution_count": null,
   "id": "0e0e0d37-25f3-4ef9-a977-0626ea5f9bd6",
   "metadata": {},
   "outputs": [],
   "source": [
    "possums['total_l'].var()"
   ]
  },
  {
   "cell_type": "code",
   "execution_count": null,
   "id": "1835c913-a205-4c31-b454-9a54ee825d3d",
   "metadata": {},
   "outputs": [],
   "source": [
    "lr_total_tail.resid.var()"
   ]
  },
  {
   "cell_type": "code",
   "execution_count": null,
   "id": "becdf602-f31d-4578-9f03-e8b717e932b6",
   "metadata": {},
   "outputs": [],
   "source": [
    "(possums['total_l'].var() - lr_total_tail.resid.var()) / possums['total_l'].var()"
   ]
  },
  {
   "cell_type": "markdown",
   "id": "e8709a05-0a4c-4e72-97f8-fc79cbfa94d5",
   "metadata": {},
   "source": [
    "Or by inspecting the rsquared attribute."
   ]
  },
  {
   "cell_type": "code",
   "execution_count": null,
   "id": "5331a1ca-8684-4a73-91e8-980b42622f7d",
   "metadata": {},
   "outputs": [],
   "source": [
    "lr_total_tail.rsquared"
   ]
  },
  {
   "cell_type": "markdown",
   "id": "4d86837d-39e7-469e-a813-23130531643c",
   "metadata": {},
   "source": [
    "A model that has no residuals would have an R-squared value of 1 and a model which estimates using the overall mean would have an R-squared value of 0."
   ]
  }
 ],
 "metadata": {
  "kernelspec": {
   "display_name": "Python 3 (ipykernel)",
   "language": "python",
   "name": "python3"
  },
  "language_info": {
   "codemirror_mode": {
    "name": "ipython",
    "version": 3
   },
   "file_extension": ".py",
   "mimetype": "text/x-python",
   "name": "python",
   "nbconvert_exporter": "python",
   "pygments_lexer": "ipython3",
   "version": "3.12.4"
  }
 },
 "nbformat": 4,
 "nbformat_minor": 5
}
